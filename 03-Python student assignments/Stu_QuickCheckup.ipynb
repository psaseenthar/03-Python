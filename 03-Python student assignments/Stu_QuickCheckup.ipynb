{
 "cells": [
  {
   "cell_type": "code",
   "execution_count": 1,
   "metadata": {},
   "outputs": [
    {
     "name": "stdout",
     "output_type": "stream",
     "text": [
      "Hello User!\n"
     ]
    }
   ],
   "source": [
    "# Print Hello User!\n",
    "print(\"Hello User!\")"
   ]
  },
  {
   "cell_type": "code",
   "execution_count": 3,
   "metadata": {},
   "outputs": [
    {
     "name": "stdin",
     "output_type": "stream",
     "text": [
      "Your name, sir or madame?  baker\n"
     ]
    }
   ],
   "source": [
    "# Take in User Input\n",
    "name = input(\"Your name, sir or madame? \")"
   ]
  },
  {
   "cell_type": "code",
   "execution_count": 4,
   "metadata": {},
   "outputs": [
    {
     "name": "stdout",
     "output_type": "stream",
     "text": [
      "Salutations, baker!\n"
     ]
    }
   ],
   "source": [
    "# Respond Back with User Input\n",
    "print(\"Salutations, \" + name + \"!\")"
   ]
  },
  {
   "cell_type": "code",
   "execution_count": 7,
   "metadata": {},
   "outputs": [
    {
     "name": "stdin",
     "output_type": "stream",
     "text": [
      "And your age, baker? 90\n"
     ]
    }
   ],
   "source": [
    "# Take in the User Age\n",
    "age = input(\"And your age, \" + name + \"?\")"
   ]
  },
  {
   "cell_type": "code",
   "execution_count": 8,
   "metadata": {},
   "outputs": [
    {
     "name": "stdout",
     "output_type": "stream",
     "text": [
      "Ah, a wizened veteran!\n"
     ]
    }
   ],
   "source": [
    "# Respond Back with a statement based on age\n",
    "if (int(age) < 8):\n",
    "    print(\"Ah, a tiny child!\")\n",
    "\n",
    "if (int(age) >= 8):\n",
    "    print(\"Ah, a wizened veteran!\")\n"
   ]
  },
  {
   "cell_type": "code",
   "execution_count": null,
   "metadata": {},
   "outputs": [],
   "source": []
  }
 ],
 "metadata": {
  "kernelspec": {
   "display_name": "Python 3",
   "language": "python",
   "name": "python3"
  },
  "language_info": {
   "codemirror_mode": {
    "name": "ipython",
    "version": 3
   },
   "file_extension": ".py",
   "mimetype": "text/x-python",
   "name": "python",
   "nbconvert_exporter": "python",
   "pygments_lexer": "ipython3",
   "version": "3.7.1"
  }
 },
 "nbformat": 4,
 "nbformat_minor": 2
}
